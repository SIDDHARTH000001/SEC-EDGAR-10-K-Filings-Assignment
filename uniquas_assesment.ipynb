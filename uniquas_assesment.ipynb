{
 "cells": [
  {
   "cell_type": "markdown",
   "metadata": {},
   "source": [
    "## Installing Dependencies"
   ]
  },
  {
   "cell_type": "code",
   "execution_count": null,
   "metadata": {},
   "outputs": [],
   "source": [
    "!pip install langchain langchain-openai langchain-community\n",
    "!pip install sentence-transformers\n",
    "!pip install beautifulsoup4 requests numpy\n",
    "!pip install faiss-cpu\n",
    "!pip install numpy langchain-text-splitters langchain-google-genai scikit-learn\n",
    "!pip install lxml\n",
    "!pip install huggingface_hub[hf_xet]\n"
   ]
  },
  {
   "cell_type": "code",
   "execution_count": 1,
   "metadata": {},
   "outputs": [
    {
     "name": "stderr",
     "output_type": "stream",
     "text": [
      "c:\\Users\\SIVERMA\\Documents\\Experimenting\\________DEEPLEARNING\\ML_COOKBOOK\\10X\\.venv\\Lib\\site-packages\\tqdm\\auto.py:21: TqdmWarning: IProgress not found. Please update jupyter and ipywidgets. See https://ipywidgets.readthedocs.io/en/stable/user_install.html\n",
      "  from .autonotebook import tqdm as notebook_tqdm\n"
     ]
    }
   ],
   "source": [
    "import os\n",
    "import time\n",
    "import requests\n",
    "import numpy as np\n",
    "from bs4 import BeautifulSoup\n",
    "from langchain.schema import Document\n",
    "from langchain_text_splitters import RecursiveCharacterTextSplitter\n",
    "from sentence_transformers import SentenceTransformer\n",
    "import faiss\n",
    "from langchain_google_genai import ChatGoogleGenerativeAI\n",
    "import json\n",
    "from langchain_core.prompts import ChatPromptTemplate\n",
    "from pydantic import BaseModel, Field\n",
    "from typing import List\n",
    "from sklearn.feature_extraction.text import TfidfVectorizer\n",
    "\n"
   ]
  },
  {
   "cell_type": "code",
   "execution_count": 2,
   "metadata": {},
   "outputs": [],
   "source": [
    "# HuggingFace TOKEN\n",
    "\n",
    "os.environ[\"HUGGINGFACE_HUB_TOKEN\"] = \"xxxxxxxxxxxxxxxxxxxxxxxxxxxxxxxxxxxx\"\n",
    "\n",
    "# Google API KEY\n",
    "os.environ[\"GOOGLE_API_KEY\"] = \"xxxxxxxxxxxxxxxxxxxxxxxxxxxxxxxxxxx\"\n",
    "\n",
    "\n",
    "\n",
    "# Optional\n",
    "\n",
    "# Azure Open-AI Credetials\n",
    "# api_key=\"xxxxxxxxxxxxxxxxxxxxXXXXXXXXXXX\"\n",
    "# endpoint=\"xXXXXXXXXXXXXXXXXXXXXXXXXXXXXX\"\n",
    "# deployment=\"xxxxxxxxxxxxXXXXXXXXXXXXXXXXXXXXX\"\n",
    "# version=\"xXXXXXXXXXXXXXXXXXXXXXXXXXXXXXXX\""
   ]
  },
  {
   "cell_type": "markdown",
   "metadata": {},
   "source": [
    "## Data Collection"
   ]
  },
  {
   "cell_type": "code",
   "execution_count": 3,
   "metadata": {},
   "outputs": [
    {
     "name": "stdout",
     "output_type": "stream",
     "text": [
      "+=+=+=+= Downloaded GOOGL_2022.html (fiscal year 2022) +=+=+=+=\n",
      "+=+=+=+= Downloaded GOOGL_2023.html (fiscal year 2023) +=+=+=+=\n",
      "+=+=+=+= Downloaded GOOGL_2024.html (fiscal year 2024) +=+=+=+=\n",
      "+=+=+=+= Downloaded MSFT_2022.html (fiscal year 2022) +=+=+=+=\n",
      "+=+=+=+= Downloaded MSFT_2023.html (fiscal year 2023) +=+=+=+=\n",
      "+=+=+=+= Downloaded MSFT_2024.html (fiscal year 2024) +=+=+=+=\n",
      "+=+=+=+= Downloaded NVDA_2022.html (fiscal year 2022) +=+=+=+=\n",
      "+=+=+=+= Downloaded NVDA_2023.html (fiscal year 2023) +=+=+=+=\n",
      "+=+=+=+= Downloaded NVDA_2024.html (fiscal year 2024) +=+=+=+=\n",
      "\n",
      "Download complete!\n"
     ]
    }
   ],
   "source": [
    "COMPANIES = {\"GOOGL\": \"0001652044\", \"MSFT\": \"0000789019\", \"NVDA\": \"0001045810\"}\n",
    "YEARS = [\"2022\", \"2023\", \"2024\"]\n",
    "HEADERS = {\"User-Agent\": \"Company Research/1.0 (your.email@example.com)\"}\n",
    "\n",
    "\n",
    "def download_10k(ticker, cik, year):\n",
    "    try:\n",
    "        url = f\"https://data.sec.gov/submissions/CIK{cik}.json\"\n",
    "        response = requests.get(url, headers=HEADERS)\n",
    "        data = response.json()\n",
    "        filings = data[\"filings\"][\"recent\"]\n",
    "        \n",
    "        for i, form in enumerate(filings[\"form\"]):\n",
    "            if form == \"10-K\":\n",
    "                report_date = filings.get(\"reportDate\", [None] * len(filings[\"form\"]))[i]\n",
    "                \n",
    "                if report_date and report_date.startswith(year):\n",
    "                    acc_num = filings[\"accessionNumber\"][i].replace(\"-\", \"\")\n",
    "                    primary_doc = filings[\"primaryDocument\"][i]\n",
    "                    \n",
    "                    base_url = f\"https://www.sec.gov/Archives/edgar/data/{int(cik)}/{acc_num}/\"\n",
    "                    file_url = base_url + primary_doc\n",
    "                    \n",
    "                    response = requests.get(file_url, headers=HEADERS)\n",
    "                    response.raise_for_status()\n",
    "                    \n",
    "                    filename = f\"{ticker}_{year}.html\"\n",
    "                    with open(f\"filings/{filename}\", \"wb\") as f:\n",
    "                        f.write(response.content)\n",
    "                    \n",
    "                    print(f\"+=+=+=+= Downloaded {filename} (fiscal year {year}) +=+=+=+=\")\n",
    "                    return True\n",
    "                \n",
    "    except Exception as e:\n",
    "        print(f\"ERROR {ticker} {year}: {e}\")\n",
    "        return False\n",
    "\n",
    "os.makedirs(\"filings\", exist_ok=True)\n",
    "\n",
    "for ticker, cik in COMPANIES.items():\n",
    "    for year in YEARS:\n",
    "        download_10k(ticker, cik, year)\n",
    "        time.sleep(0.1)  # Be respectful to SEC servers\n",
    "\n",
    "print(\"\\nDownload complete!\")"
   ]
  },
  {
   "cell_type": "markdown",
   "metadata": {},
   "source": [
    "##  Parse HTML"
   ]
  },
  {
   "cell_type": "code",
   "execution_count": 4,
   "metadata": {},
   "outputs": [
    {
     "name": "stderr",
     "output_type": "stream",
     "text": [
      "C:\\Users\\SIVERMA\\AppData\\Local\\Temp\\ipykernel_30196\\3092683764.py:9: XMLParsedAsHTMLWarning: It looks like you're using an HTML parser to parse an XML document.\n",
      "\n",
      "Assuming this really is an XML document, what you're doing might work, but you should know that using an XML parser will be more reliable. To parse this document as XML, make sure you have the Python package 'lxml' installed, and pass the keyword argument `features=\"xml\"` into the BeautifulSoup constructor.\n",
      "\n",
      "If you want or need to use an HTML parser on this document, you can make this warning go away by filtering it. To do that, run this code before calling the BeautifulSoup constructor:\n",
      "\n",
      "    from bs4 import XMLParsedAsHTMLWarning\n",
      "    import warnings\n",
      "\n",
      "    warnings.filterwarnings(\"ignore\", category=XMLParsedAsHTMLWarning)\n",
      "\n",
      "  soup = BeautifulSoup(html, \"lxml\")\n"
     ]
    },
    {
     "name": "stdout",
     "output_type": "stream",
     "text": [
      "Extracted text for GOOGL 2022 (chars=349560)\n",
      "Extracted text for GOOGL 2023 (chars=371213)\n",
      "Extracted text for GOOGL 2024 (chars=381674)\n",
      "Extracted text for MSFT 2022 (chars=378985)\n",
      "Extracted text for MSFT 2023 (chars=373753)\n",
      "Extracted text for MSFT 2024 (chars=390462)\n",
      "Extracted text for NVDA 2022 (chars=325456)\n",
      "Extracted text for NVDA 2023 (chars=339219)\n",
      "Extracted text for NVDA 2024 (chars=358853)\n"
     ]
    }
   ],
   "source": [
    "documents = []\n",
    "for fname in os.listdir(\"filings\"):\n",
    "    \n",
    "    ticker, year_ext = fname.split(\"_\")\n",
    "    year = year_ext.split(\".html\")[0]\n",
    "    path = os.path.join(\"filings\", fname)\n",
    "    with open(path, \"rb\") as f:\n",
    "        html = f.read()\n",
    "    soup = BeautifulSoup(html, \"lxml\")\n",
    "    \n",
    "    for tag in soup([\"script\", \"style\"]):\n",
    "        tag.decompose()\n",
    "    text = soup.get_text(separator=\"\\n\")\n",
    "    \n",
    "    lines = [line.strip() for line in text.splitlines() if line.strip()]\n",
    "    content = \"\\n\".join(lines)\n",
    "    documents.append(Document(page_content=content, metadata={\"company\": ticker, \"year\": year}))\n",
    "    print(f\"Extracted text for {ticker} {year} (chars={len(content)})\")\n"
   ]
  },
  {
   "cell_type": "markdown",
   "metadata": {},
   "source": [
    "## Chunking: Split documents into semantic chunk"
   ]
  },
  {
   "cell_type": "code",
   "execution_count": 5,
   "metadata": {},
   "outputs": [
    {
     "name": "stdout",
     "output_type": "stream",
     "text": [
      "Total chunks created: 2660 \n"
     ]
    }
   ],
   "source": [
    "\n",
    "text_splitter = RecursiveCharacterTextSplitter(chunk_size=1500, chunk_overlap=50)\n",
    "chunks = text_splitter.split_documents(documents)\n",
    "print(f\"Total chunks created: {len(chunks)} \")\n"
   ]
  },
  {
   "cell_type": "markdown",
   "metadata": {},
   "source": [
    "## TFIDF"
   ]
  },
  {
   "cell_type": "code",
   "execution_count": 6,
   "metadata": {},
   "outputs": [],
   "source": [
    "chunk_texts = [chunk.page_content for chunk in chunks]\n",
    "\n",
    "tfidf = TfidfVectorizer(\n",
    "    lowercase=True,                     \n",
    "    stop_words=\"english\",               \n",
    "    ngram_range=(1, 2), \n",
    "    max_features=5000,                  \n",
    "    norm=\"l2\",                 \n",
    "    sublinear_tf=True                  \n",
    ")\n",
    "tfidf_embeddings = tfidf.fit_transform(chunk_texts).toarray()\n"
   ]
  },
  {
   "cell_type": "markdown",
   "metadata": {},
   "source": [
    "# Embeddings & FAISS Vector Store"
   ]
  },
  {
   "cell_type": "code",
   "execution_count": 7,
   "metadata": {},
   "outputs": [],
   "source": [
    "\n",
    "model = SentenceTransformer('sentence-transformers/all-MiniLM-L6-v2',token=os.getenv(\"HUGGINGFACE_HUB_TOKEN\"))\n",
    "# model = SentenceTransformer(\"sentence-transformers/paraphrase-multilingual-MiniLM-L12-v2\", token=os.getenv(\"HUGGINGFACE_HUB_TOKEN\"))  \n"
   ]
  },
  {
   "cell_type": "code",
   "execution_count": 8,
   "metadata": {},
   "outputs": [],
   "source": [
    "\n",
    "sem_embeddings = model.encode(chunk_texts, convert_to_numpy=True)\n",
    "\n",
    "fused_embeddings = np.hstack([tfidf_embeddings, sem_embeddings])\n"
   ]
  },
  {
   "cell_type": "code",
   "execution_count": 9,
   "metadata": {},
   "outputs": [
    {
     "name": "stdout",
     "output_type": "stream",
     "text": [
      "FAISS index populated with 2660 vectors.\n"
     ]
    }
   ],
   "source": [
    "d = fused_embeddings.shape[1]\n",
    "index = faiss.IndexFlatL2(d) \n",
    "index.add(fused_embeddings)        \n",
    "print(f\"FAISS index populated with {index.ntotal} vectors.\")"
   ]
  },
  {
   "cell_type": "code",
   "execution_count": 10,
   "metadata": {},
   "outputs": [
    {
     "data": {
      "text/plain": [
       "[Document(metadata={'company': 'MSFT', 'year': '2022'}, page_content='•\\nSearch and news advertising.\\n93\\nPART II\\nItem 8\\nRevenue and costs are generally directly attributed to our segments. However, due to the integrated structure of our business, certain revenue recognized and costs incurred by one segment may benefit other segments. Revenue from certain contracts is allocated among the segments based on the relative value of the underlying products and services, which can include allocation based on actual prices charged, prices when sold separately, or estimated costs plus a profit margin. Cost of revenue is allocated in certain cases based on a relative revenue methodology. Operating expenses that are allocated primarily include those relating to marketing of products and services from which multiple segments benefit and are generally allocated based on relative gross margin.\\nIn addition, certain costs incurred at a corporate level that are identifiable and that benefit our segments are allocated to them. These allocated costs include legal, including settlements and fines, information technology, human resources, finance, excise taxes, field selling, shared facilities services, and customer service and support. Each allocation is measured differently based on the specific facts and circumstances of the costs being allocated.\\nSegment revenue and operating income were as follows during the periods presented:\\n(In millions)\\nYear Ended June\\xa030,\\n2022\\n2021\\n2020\\nRevenue\\nProductivity and Business Processes\\n$\\n63,364\\n$\\n53,915\\n$\\n46,398'),\n",
       " Document(metadata={'company': 'MSFT', 'year': '2023'}, page_content='Revenue and costs are generally directly attributed to our segments. However, due to the integrated structure of our business, certain revenue recognized and costs incurred by one segment may benefit other segments. Revenue from certain contracts is allocated among the segments based on the relative value of the underlying products and services, which can include allocation based on actual prices charged, prices when sold separately, or estimated costs plus a profit margin. Cost of revenue is allocated in certain cases based on a relative revenue methodology. Operating expenses that are allocated primarily include those relating to marketing of products and services from which multiple segments benefit and are generally allocated based on relative gross margin.\\nIn addition, certain costs are incurred at a corporate level and allocated to our segments. These allocated costs\\ngenerally include legal, including settlements and fines, information technology, human resources, finance, excise taxes, field selling, shared facilities services, customer service and support\\n,\\nand severance incurred as part of a corporate program. Each allocation is measured differently based on the specific facts and circumstances of the costs being allocated and is generally based on relative gross margin or relative headcount.\\nSegment revenue and operating income were as follows during the periods presented:\\n(In millions)\\nYear Ended June 30,\\n2023\\n2022\\n2021\\nRevenue\\nProductivity and Business Processes'),\n",
       " Document(metadata={'company': 'NVDA', 'year': '2022'}, page_content='two\\nsegments.\\nThe “All Other” category includes the expenses that our CODM does not assign to either Graphics or Compute & Networking for purposes of making operating decisions or assessing financial performance. The expenses include stock-based compensation expense, corporate infrastructure and support costs, acquisition-related costs, IP-related costs, and other non-recurring charges and benefits that our CODM deems to be enterprise in nature.\\nOur CODM does not review any information regarding total assets on a reportable segment basis. Depreciation and amortization expense directly attributable to each reportable segment is included in operating results for each segment. However, the CODM does not evaluate depreciation and amortization expense by operating segment and, therefore, it is not separately presented. There is no intersegment revenue. The accounting policies for segment reporting are the same as for our consolidated financial statements. The table below presents details of our reportable segments and the “All Other” category.\\nGraphics\\nCompute & Networking\\nAll Other\\nConsolidated\\n(In millions)\\nYear Ended January\\xa030, 2022:\\nRevenue\\n$\\n15,868\\n$\\n11,046\\n$\\n—\\n$\\n26,914\\nOperating income (loss)\\n$\\n8,492\\n$\\n4,598\\n$\\n(\\n3,049\\n)\\n$\\n10,041\\nYear Ended January\\xa031, 2021:\\nRevenue\\n$\\n9,834\\n$\\n6,841\\n$\\n—\\n$\\n16,675\\nOperating income (loss)\\n$\\n4,612\\n$\\n2,548\\n$\\n(\\n2,628\\n)\\n$\\n4,532\\nYear Ended January\\xa026, 2020:\\nRevenue\\n$\\n7,639\\n$\\n3,279\\n$\\n—\\n$\\n10,918\\nOperating income (loss)\\n$\\n3,267\\n$\\n751\\n$\\n(\\n1,172\\n)\\n$')]"
      ]
     },
     "execution_count": 10,
     "metadata": {},
     "output_type": "execute_result"
    }
   ],
   "source": [
    "def retriver(sq, k = 3):\n",
    "    context = []\n",
    "    t_emb = tfidf.transform([sq]).toarray()\n",
    "    s_emb = model.encode([sq])\n",
    "    q_emb = np.hstack([t_emb, s_emb])\n",
    "    D, I = index.search(q_emb, k=3)  \n",
    "    for idx in I[0]:\n",
    "        context.append(chunks[idx])\n",
    "    return context\n",
    "\n",
    "retriver(\"MSFT Segment revenue and operating income\")"
   ]
  },
  {
   "cell_type": "markdown",
   "metadata": {},
   "source": [
    "## LLM Model initialization"
   ]
  },
  {
   "cell_type": "code",
   "execution_count": 11,
   "metadata": {},
   "outputs": [
    {
     "data": {
      "text/plain": [
       "AIMessage(content='Hi there! How can I help you today?', additional_kwargs={}, response_metadata={'prompt_feedback': {'block_reason': 0, 'safety_ratings': []}, 'finish_reason': 'STOP', 'model_name': 'gemini-2.5-flash', 'safety_ratings': []}, id='run--eb6c034a-33b3-45ce-8f29-f34bee5bef4b-0', usage_metadata={'input_tokens': 2, 'output_tokens': 34, 'total_tokens': 36, 'input_token_details': {'cache_read': 0}, 'output_token_details': {'reasoning': 24}})"
      ]
     },
     "execution_count": 11,
     "metadata": {},
     "output_type": "execute_result"
    }
   ],
   "source": [
    "\n",
    "llm = ChatGoogleGenerativeAI(model=\"gemini-2.5-flash\", temperature=0.7)\n",
    "\n",
    "# from langchain_openai import AzureChatOpenAI\n",
    "# llm = AzureChatOpenAI(\n",
    "#             temperature=0.3,\n",
    "#             azure_endpoint=endpoint,\n",
    "#             api_key=api_key,\n",
    "#             deployment_name=deployment,\n",
    "#             api_version=version\n",
    "#         )\n",
    "\n",
    "llm.invoke(\"hi\")\n"
   ]
  },
  {
   "cell_type": "code",
   "execution_count": 12,
   "metadata": {},
   "outputs": [],
   "source": [
    "class Query(BaseModel):\n",
    "    query: str = Field(description = \"context rich relevant queries\")\n",
    "    \n",
    "class QueriesExpension(BaseModel):\n",
    "    queries: List[Query] = Field(description = \"List of 5-7 unique subqueries\")\n",
    "\n",
    "\n",
    "class finalanswer(BaseModel):\n",
    "    answer: str = Field(description = \"Final answer to user's query based on context\")\n",
    "    reasoning: str = Field(description = \"reasoning behind the answer\")\n",
    "    "
   ]
  },
  {
   "cell_type": "code",
   "execution_count": 13,
   "metadata": {},
   "outputs": [],
   "source": [
    "def answer_query(query):\n",
    "    state = {\"query\": query, \"sub_queries\": [], \"retrieved\": [], \"answer\": \"\"}\n",
    "    \n",
    "    # +=+=+=+=+=+=+=+=+=+=+=+=+=+= Subqueires retrival\n",
    "\n",
    "    prompt = ChatPromptTemplate.from_messages([\n",
    "    (\"system\", \"\"\"You are an expert SEC EDGAR filing analyst specializing in 10-K documents for GOOGL, MSFT, and NVDA. \n",
    "\n",
    "    Your task is to decompose user queries into 7-10 focused sub-queries that will retrieve the most relevant information from SEC 10-K filings. Each sub-query should:\n",
    "\n",
    "    1. Use precise SEC filing terminology (e.g., \"revenue recognition\", \"operating segments\", \"risk factors\", \"material agreements\", \"liquidity and capital resources\")\n",
    "    2. Target specific 10-K sections when relevant (Item 1A Risk Factors, Item 7 MD&A, Item 8 Financial Statements, etc.)\n",
    "    3. Be company-specific when beneficial (mention ticker symbols, business segments, key products)\n",
    "    4. Focus on quantifiable metrics and financial data points\n",
    "    5. Include temporal context (year-over-year, quarterly trends, fiscal periods)\n",
    "\n",
    "    Format each sub-query as a standalone search that would find relevant passages in 10-K documents. Prioritize queries that would surface:\n",
    "    - Financial performance metrics and KPIs\n",
    "    - Risk disclosures and regulatory matters  \n",
    "    - Business segment analysis and geographic revenue\n",
    "    - Competitive positioning and market dynamics\n",
    "    - Capital allocation and investment strategies\n",
    "    - Operational challenges and growth drivers\n",
    "\n",
    "    Example sub-query style: \"NVDA data center revenue growth fiscal 2024 geographic breakdown Asia-Pacific, MSFT revenue by operating segments fiscal 2023 Item 7 MD&A\"\n",
    "    \n",
    "    \"\"\"),\n",
    "        (\"human\", query)\n",
    "    ])\n",
    "    response = llm.with_structured_output(QueriesExpension).invoke(prompt.format_prompt())\n",
    "   \n",
    "    sub_queries = [s.query.strip() for s in response.queries if s.query.strip()]\n",
    "    state[\"sub_queries\"] = sub_queries\n",
    "    \n",
    "    \n",
    "    # +=+=+=+=+=+=+=+=+=+=+=+=+=+=+=+=+=+= Context Retrival\n",
    "    sources = []\n",
    "    for sq in sub_queries:\n",
    "        sources.extend(retriver(sq, 5))\n",
    "    state[\"retrieved\"] = sources\n",
    "    print(\"Generated Subqueries...\")\n",
    "    print(sub_queries)\n",
    "    \n",
    "    context = \"\"\n",
    "    for chunk in sources:\n",
    "        comp = chunk.metadata[\"company\"]\n",
    "        yr = chunk.metadata[\"year\"]\n",
    "        excerpt = chunk.page_content\n",
    "        context += f\"{comp} {yr} filing excerpt: \\\"{excerpt}\\\"\\n\"\n",
    "    \n",
    "    \n",
    "    \n",
    "    # +=+=+=+=+=+=+=+=+=+=+=+=+=   LLM Invocation\n",
    "    prompt_answer = ChatPromptTemplate.from_messages([\n",
    "        (\"system\", f\"Please provide the answer for the user query using given context :`{context}`, answer must be grounded in context, and must provide the reasoning behind the answer.\"),\n",
    "        (\"human\", query)\n",
    "    ])\n",
    "    final_resp = llm.with_structured_output(finalanswer).invoke(prompt_answer.format_prompt())\n",
    "    \n",
    "    if not final_resp:\n",
    "        final_resp = finalanswer(answer=\"N/A\",reasoning=\"N/A\")\n",
    "    \n",
    "    answer_text = final_resp.answer.strip()\n",
    "    state[\"answer\"] = answer_text\n",
    "    sources_list = []\n",
    "    for chunk in sources:\n",
    "        sources_list.append({\n",
    "            \"company\": chunk.metadata[\"company\"],\n",
    "            \"year\": chunk.metadata[\"year\"],\n",
    "            \"excerpt\": chunk.page_content.replace(\"\\n\", \" \") ,\n",
    "            \"page\": None\n",
    "        })\n",
    "    result = {\n",
    "        \"query\": query,\n",
    "        \"answer\": answer_text,\n",
    "        \"reasoning\": final_resp.reasoning,\n",
    "        \"sub_queries\": sub_queries,\n",
    "        \"sources\": sources_list\n",
    "    }\n",
    "    return result\n"
   ]
  },
  {
   "cell_type": "code",
   "execution_count": 14,
   "metadata": {},
   "outputs": [
    {
     "name": "stdout",
     "output_type": "stream",
     "text": [
      "Generated Subqueries...\n",
      "['GOOGL operating income total revenue fiscal 2023 Item 8 Financial Statements', 'GOOGL operating margin trends fiscal 2023 Item 7 MD&A', 'MSFT operating income total revenue fiscal 2023 Item 8 Financial Statements', 'MSFT operating margin analysis fiscal 2023 Item 7 MD&A', 'NVDA operating income total net revenue fiscal 2023 Item 8 Financial Statements', 'NVDA operating margin performance fiscal 2023 Item 7 MD&A', 'GOOGL MSFT NVDA consolidated statements of operations fiscal 2023']\n",
      "\n",
      "+=+=+=+=+= Answer +=+=+=+=+=\n",
      " Based on the provided context, only NVIDIA's operating margin for the fiscal year ended January 29, 2023 (which corresponds to 2023) is explicitly stated as 15.6%. The operating margins for Google (GOOGL) and Microsoft (MSFT) for 2023 are not available in the given excerpts, as the necessary total revenue figures to calculate them are not provided.\n",
      "\n",
      "+=+=+=+=+= Reasoning +=+=+=+=+=\n",
      " The NVDA 2024 filing excerpt states that for the 'Year Ended Jan 29, 2023', the 'Operating income' was '15.6 %'. For GOOGL, the 2023 filing excerpt provides 'Total income from operations' as $84,293 million for 2023, but the total revenue for 2023 is not available to calculate the operating margin. Similarly, the MSFT excerpts do not provide the operating margin or the necessary financial figures to calculate it for 2023.\n",
      "Generated Subqueries...\n",
      "['NVDA data center revenue fiscal year 2023 Item 7 MD&A', 'NVDA data center revenue fiscal year 2022 Item 7 MD&A', 'NVDA data center segment financial performance fiscal 2023 versus fiscal 2022 Item 7 MD&A', 'NVDA year-over-year growth data center revenue fiscal 2023 Item 7 MD&A', 'NVDA revenue by operating segments fiscal 2023 Item 8 Financial Statements', 'NVDA revenue by operating segments fiscal 2022 Item 8 Financial Statements', 'NVDA data center segment outlook and trends fiscal 2023 Item 7 MD&A', 'NVDA data center product revenue contributions fiscal 2023 Item 7 MD&A']\n",
      "\n",
      "+=+=+=+=+= Answer +=+=+=+=+=\n",
      " NVIDIA's Data Center revenue grew by 41% from fiscal year 2022 to fiscal year 2023, reaching $15.01 billion in fiscal year 2023.\n",
      "\n",
      "+=+=+=+=+= Reasoning +=+=+=+=+=\n",
      " According to the NVDA 2023 filing excerpt, 'Data Center revenue for fiscal year 2023 was $15.01 billion, up 41% from fiscal year 2022.' The table in the NVDA 2024 filing excerpt also confirms these figures, showing Data Center revenue of $15,005 million for Jan 29, 2023 (fiscal year 2023) and $10,613 million for Jan 30, 2022 (fiscal year 2022).\n",
      "Generated Subqueries...\n",
      "['GOOGL Google Cloud revenue fiscal year 2023', 'GOOGL total revenue fiscal year 2023', 'GOOGL revenue by operating segments fiscal 2023 Item 7 MD&A', 'GOOGL segment reporting financial statements 2023 Item 8', 'GOOGL Google Cloud segment performance analysis 2023', 'GOOGL Google Cloud revenue growth year-over-year 2023', 'GOOGL revenue recognition cloud services 2023', 'GOOGL Google Cloud key performance indicators 2023']\n",
      "\n",
      "+=+=+=+=+= Answer +=+=+=+=+=\n",
      " In 2023, approximately 10.76% of Google's total revenue came from Google Cloud.\n",
      "\n",
      "+=+=+=+=+= Reasoning +=+=+=+=+=\n",
      " According to the GOOGL 2024 filing excerpt, Google's total revenues for the year ended December 31, 2023, were $307,394 million, and Google Cloud revenues for the same period were $33,088 million. The percentage is calculated as (Google Cloud Revenue / Total Revenue) * 100 = (33,088 / 307,394) * 100 = 10.76%.\n",
      "Generated Subqueries...\n",
      "['GOOGL Google Cloud revenue fiscal year 2022 Item 7 MD&A', 'GOOGL Google Cloud revenue fiscal year 2023 Item 7 MD&A', 'MSFT Microsoft Cloud revenue fiscal year 2022 Item 7 MD&A', 'MSFT Microsoft Cloud revenue fiscal year 2023 Item 7 MD&A', 'NVDA Data Center segment revenue fiscal year 2022 Item 7 MD&A', 'NVDA Data Center segment revenue fiscal year 2023 Item 7 MD&A', 'GOOGL cloud segment year-over-year revenue growth Item 7 MD&A fiscal 2022 2023', 'MSFT Intelligent Cloud segment revenue growth drivers Item 7 MD&A fiscal 2022 2023', 'NVDA Data Center segment performance trends analysis Item 7 MD&A fiscal 2022 2023']\n",
      "\n",
      "+=+=+=+=+= Answer +=+=+=+=+=\n",
      " From 2022 to 2023, NVIDIA's Data Center revenue, which is comparable to cloud revenue, grew by approximately 41.43%. Microsoft Cloud revenue grew by approximately 22.48% during the same period. The exact cloud revenue for Google (Google Cloud) in 2023 is not provided in the given context, so its growth rate from 2022 to 2023 cannot be calculated.\n",
      "\n",
      "+=+=+=+=+= Reasoning +=+=+=+=+=\n",
      " For NVIDIA, Data Center revenue was $10.613 billion in fiscal year 2022 and $15.01 billion in fiscal year 2023. The growth rate is (($15.01 billion - $10.613 billion) / $10.613 billion) * 100 = 41.43%. For Microsoft, Microsoft Cloud revenue was $91.2 billion in fiscal year 2022. For fiscal year 2024, Microsoft Cloud revenue was $137.4 billion, which was a 23% increase from fiscal year 2023. Therefore, Microsoft Cloud revenue in fiscal year 2023 was $137.4 billion / 1.23 = $111.707 billion. The growth rate is (($111.707 billion - $91.2 billion) / $91.2 billion) * 100 = 22.48%. For Google, the 2022 Google Cloud revenue was calculated as $26.289 billion (since the $7.1 billion increase from 2021 to 2022 represented a 37% growth, implying 2021 revenue was $7.1 billion / 0.37 = $19.189 billion, so 2022 revenue = $19.189 billion + $7.1 billion = $26.289 billion). However, the specific Google Cloud revenue for 2023 is not stated in the provided context, making it impossible to calculate the growth rate for Google Cloud from 2022 to 2023.\n",
      "Generated Subqueries...\n",
      "['GOOGL, MSFT, NVDA aggregate research and development expenditures on artificial intelligence initiatives fiscal 2024', 'GOOGL, MSFT, NVDA capital expenditure allocation for AI-related data centers and infrastructure fiscal 2024', 'MSFT OpenAI partnership financial implications and strategic rationale fiscal 2024 Item 7 MD&A', 'NVDA Data Center segment revenue contribution from AI-specific products and platforms fiscal 2024', 'GOOGL Google Cloud AI services and generative AI adoption revenue impact fiscal 2024', 'GOOGL, MSFT, NVDA strategic priorities and future investment plans for artificial intelligence development fiscal 2024 Item 1 Business, Item 7 MD&A', 'GOOGL, MSFT, NVDA identified risks related to AI technology development, ethical considerations, and regulatory environment fiscal 2024 Item 1A Risk Factors', 'NVDA CUDA software platform development and ecosystem investment fiscal 2024', 'MSFT Copilot and Azure AI services market penetration and financial performance fiscal 2024', 'GOOGL Waymo and other AI-driven autonomous technology investments fiscal 2024']\n",
      "\n",
      "+=+=+=+=+= Answer +=+=+=+=+=\n",
      " All three companies, Google, Microsoft, and Nvidia, are making significant AI investments, though their approaches and focus areas differ based on their core businesses.\n",
      "\n",
      "**Google (GOOGL):**\n",
      "Google's AI investments in 2024 are centered around organizational consolidation, integrating AI into core products, and long-term R&D. They brought together teams from Google Research (Brain team) and DeepMind to form Google DeepMind, with general AI model development now reported as Alphabet-level activities. This signifies a centralized approach to foundational AI research. Google is also integrating AI directly into their devices and operating systems, as seen with Gemini Nano in Pixel phones and Gemini features in Android and Chrome. They continue to view early AI investments as\n",
      "\n",
      "+=+=+=+=+= Reasoning +=+=+=+=+=\n",
      " The user asked for a comparison of AI investments by Google, Microsoft, and Nvidia based on their 2024 10-K filings. I extracted relevant information from each company's 2024 filing excerpts to identify their specific AI investment strategies, product developments, and financial indicators related to AI. I then structured the answer by company, detailing their AI investment focus areas, product/service offerings, and infrastructure investments, and highlighted any available financial data related to AI. For Google, I noted the organizational restructuring of AI teams and integration of AI into Pixel, Android, and Chrome. For Microsoft, I focused on their OpenAI partnership, Azure AI platform, custom silicon, and Copilot offerings. For Nvidia, I emphasized their significant Data Center revenue driven by AI, their AI inference platforms, and solutions for generative AI and autonomous vehicles. The reasoning provided directly supports the answer by outlining these specific points for each company.\n",
      "Generated Subqueries...\n",
      "['MSFT consolidated total revenue fiscal year 2023 Item 8 Financial Statements', 'MSFT total revenue growth year-over-year fiscal 2023 comparison to fiscal 2022 Item 7 MD&A', 'MSFT revenue by operating segments fiscal 2023 Productivity and Business Processes, Intelligent Cloud, More Personal Computing Item 7 MD&A', 'MSFT net income and diluted earnings per share fiscal 2023 Item 8 Financial Statements', 'MSFT geographic revenue breakdown fiscal 2023 United States, other countries Item 7 MD&A', 'MSFT critical accounting policies revenue recognition fiscal 2023 Item 8 Note 1', 'MSFT liquidity and capital resources impact of revenue trends fiscal 2023 Item 7 MD&A', 'MSFT forward-looking statements revenue outlook fiscal 2024 guidance Item 7 MD&A']\n",
      "\n",
      "+=+=+=+=+= Answer +=+=+=+=+=\n",
      " $211,915 million\n",
      "\n",
      "+=+=+=+=+= Reasoning +=+=+=+=+=\n",
      " The MSFT 2023 filing excerpt, under 'SUMMARY RESULTS OF OPERATIONS', explicitly states that the Revenue for 2023 was $211,915 million.\n"
     ]
    }
   ],
   "source": [
    "queries = [\n",
    "    \n",
    "    \"Which company had the highest operating margin in 2023?\",\n",
    "    \n",
    "    \n",
    "    \"How did NVIDIA's data center revenue grow from 2022 to 2023?\",\n",
    "    \"What percentage of Google's revenue came from cloud in 2023?\",\n",
    "    \"Compare cloud revenue growth rates across all three companies from 2022 to 2023.\",\n",
    "    \"Compare AI investments mentioned by all three companies in their 2024 10-Ks\",\n",
    "    \"What was MSFT total revenue in 2023?\",\n",
    "]\n",
    "os.makedirs(\"./output\",exist_ok = True)\n",
    "\n",
    "for q in queries:\n",
    "    result = answer_query(q)\n",
    "    with open(f\"./output/{q[:15]}.json\",\"w\") as f:\n",
    "        json.dump(result, f)\n",
    "    print(\"\\n+=+=+=+=+= Answer +=+=+=+=+=\\n\",result[\"answer\"])\n",
    "    print(\"\\n+=+=+=+=+= Reasoning +=+=+=+=+=\\n\",result[\"reasoning\"])\n",
    "\n",
    "\n",
    "### Results are saved under ./output dir in desired format "
   ]
  },
  {
   "cell_type": "code",
   "execution_count": null,
   "metadata": {},
   "outputs": [],
   "source": []
  }
 ],
 "metadata": {
  "kernelspec": {
   "display_name": "AGENTS",
   "language": "python",
   "name": "python3"
  },
  "language_info": {
   "codemirror_mode": {
    "name": "ipython",
    "version": 3
   },
   "file_extension": ".py",
   "mimetype": "text/x-python",
   "name": "python",
   "nbconvert_exporter": "python",
   "pygments_lexer": "ipython3",
   "version": "3.11.1"
  }
 },
 "nbformat": 4,
 "nbformat_minor": 2
}
